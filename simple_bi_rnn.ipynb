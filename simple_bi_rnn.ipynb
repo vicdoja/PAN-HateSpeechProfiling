{
 "cells": [
  {
   "cell_type": "code",
   "execution_count": 1,
   "id": "sapphire-steering",
   "metadata": {},
   "outputs": [],
   "source": [
    "import tensorflow as tf\n",
    "from tensorflow import keras\n",
    "from tensorflow.keras import layers\n",
    "\n",
    "from xml.dom import minidom\n",
    "from sklearn.model_selection import train_test_split\n",
    "import numpy as np"
   ]
  },
  {
   "cell_type": "code",
   "execution_count": 2,
   "id": "instructional-basin",
   "metadata": {},
   "outputs": [
    {
     "name": "stdout",
     "output_type": "stream",
     "text": [
      "200 Total users\n"
     ]
    }
   ],
   "source": [
    "data_directory = \"./data/pan21-author-profiling-training-2021-03-14/en\" \n",
    "\n",
    "text_list = []\n",
    "label_list = []\n",
    "with open(data_directory+\"/truth.txt\") as f:\n",
    "    for l in f.readlines():\n",
    "        l = l.rstrip().split(\":::\")\n",
    "        user_id = l[0]\n",
    "        label = int(l[1])\n",
    "        xml_file = minidom.parse(data_directory+\"/\"+user_id+\".xml\")\n",
    "        document_list = xml_file.getElementsByTagName('document')\n",
    "        aux = []\n",
    "        for i, doc in enumerate(document_list):\n",
    "            aux.append(doc.firstChild.nodeValue)\n",
    "        aux = \" \".join(aux)\n",
    "        text_list.append(aux)\n",
    "        label_list.append(label)\n",
    "label_list = np.array(label_list)\n",
    "\n",
    "print(len(text_list), \"Total users\")"
   ]
  },
  {
   "cell_type": "code",
   "execution_count": 40,
   "id": "permanent-paintball",
   "metadata": {},
   "outputs": [
    {
     "name": "stdout",
     "output_type": "stream",
     "text": [
      "160 Training sequences\n",
      "40 Testing sequences\n",
      "20000 Size of the vocabulary\n"
     ]
    }
   ],
   "source": [
    "vocab_size = 20000  \n",
    "maxlen = 200\n",
    "test_split = 0.2\n",
    "val_split = 0.1\n",
    "\n",
    "x_train_r, x_test_r, y_train, y_test = train_test_split(text_list, label_list, \\\n",
    "                                                        test_size=test_split, random_state=42)\n",
    "\n",
    "tokenizer = keras.preprocessing.text.Tokenizer(num_words=vocab_size, oov_token=\"<OOV>\")\n",
    "tokenizer.fit_on_texts(x_train_r)\n",
    "word_index = tokenizer.word_index\n",
    "x_train, x_test = tokenizer.texts_to_sequences(x_train_r), tokenizer.texts_to_sequences(x_test_r)\n",
    "\n",
    "print(len(x_train), \"Training sequences\")\n",
    "print(len(x_test), \"Testing sequences\")\n",
    "print(vocab_size, \"Size of the vocabulary\")\n",
    "\n",
    "x_train = keras.preprocessing.sequence.pad_sequences(x_train)\n",
    "\n",
    "maxlen = x_train[0].shape[0]\n",
    "\n",
    "x_test = keras.preprocessing.sequence.pad_sequences(x_test, maxlen=maxlen)"
   ]
  },
  {
   "cell_type": "code",
   "execution_count": 57,
   "id": "legendary-journal",
   "metadata": {},
   "outputs": [
    {
     "name": "stdout",
     "output_type": "stream",
     "text": [
      "Model: \"model_13\"\n",
      "_________________________________________________________________\n",
      "Layer (type)                 Output Shape              Param #   \n",
      "=================================================================\n",
      "input_15 (InputLayer)        [(None, 3918)]            0         \n",
      "_________________________________________________________________\n",
      "embedding_14 (Embedding)     (None, 3918, 16)          320000    \n",
      "_________________________________________________________________\n",
      "conv1d_16 (Conv1D)           (None, 3918, 32)          1568      \n",
      "_________________________________________________________________\n",
      "max_pooling1d_8 (MaxPooling1 (None, 1959, 32)          0         \n",
      "_________________________________________________________________\n",
      "conv1d_17 (Conv1D)           (None, 1959, 32)          3104      \n",
      "_________________________________________________________________\n",
      "bidirectional_11 (Bidirectio (None, 16)                2624      \n",
      "_________________________________________________________________\n",
      "dropout_16 (Dropout)         (None, 16)                0         \n",
      "_________________________________________________________________\n",
      "dense_27 (Dense)             (None, 16)                272       \n",
      "_________________________________________________________________\n",
      "dropout_17 (Dropout)         (None, 16)                0         \n",
      "_________________________________________________________________\n",
      "dense_28 (Dense)             (None, 1)                 17        \n",
      "=================================================================\n",
      "Total params: 327,585\n",
      "Trainable params: 327,585\n",
      "Non-trainable params: 0\n",
      "_________________________________________________________________\n"
     ]
    }
   ],
   "source": [
    "emb_dim = 16\n",
    "\n",
    "inputs = layers.Input(shape=(maxlen,))\n",
    "embs = layers.Embedding(vocab_size, emb_dim, input_length=maxlen)(inputs)\n",
    "convs = embs\n",
    "for _ in range(1):\n",
    "    convs = layers.Conv1D(filters=32, kernel_size=3, padding=\"same\")(convs)\n",
    "    convs = layers.MaxPool1D(pool_size=2, strides=2, padding=\"valid\")(convs)\n",
    "convs = layers.Conv1D(filters=32, kernel_size=3, padding=\"same\")(convs)\n",
    "recs = layers.Bidirectional(layers.LSTM(8))(convs)\n",
    "denses = layers.Dropout(0.2)(recs)\n",
    "denses = layers.Dense(16, activation=\"relu\")(denses)\n",
    "denses = layers.Dropout(0.2)(denses)\n",
    "outputs = layers.Dense(1, activation=\"sigmoid\")(denses)\n",
    "\n",
    "model = keras.Model(inputs=inputs, outputs=outputs)\n",
    "\n",
    "model.compile(\"adam\", \"binary_crossentropy\", metrics=[\"accuracy\"])\n",
    "model.summary()"
   ]
  },
  {
   "cell_type": "code",
   "execution_count": 58,
   "id": "relative-hobby",
   "metadata": {
    "scrolled": true
   },
   "outputs": [
    {
     "name": "stdout",
     "output_type": "stream",
     "text": [
      "Epoch 1/50\n",
      "8/8 [==============================] - 5s 316ms/step - loss: 0.6941 - accuracy: 0.4085 - val_loss: 0.6926 - val_accuracy: 0.5312\n",
      "Epoch 2/50\n",
      "8/8 [==============================] - 1s 131ms/step - loss: 0.6925 - accuracy: 0.5229 - val_loss: 0.6925 - val_accuracy: 0.5312\n",
      "Epoch 3/50\n",
      "8/8 [==============================] - 1s 131ms/step - loss: 0.6890 - accuracy: 0.6438 - val_loss: 0.6935 - val_accuracy: 0.4688\n",
      "Epoch 4/50\n",
      "8/8 [==============================] - 1s 132ms/step - loss: 0.6826 - accuracy: 0.6168 - val_loss: 0.6997 - val_accuracy: 0.4688\n",
      "Epoch 5/50\n",
      "8/8 [==============================] - 1s 137ms/step - loss: 0.6737 - accuracy: 0.5907 - val_loss: 0.6892 - val_accuracy: 0.5625\n",
      "Epoch 6/50\n",
      "8/8 [==============================] - 1s 133ms/step - loss: 0.6254 - accuracy: 0.8446 - val_loss: 0.6973 - val_accuracy: 0.4688\n",
      "Epoch 7/50\n",
      "8/8 [==============================] - 1s 137ms/step - loss: 0.5215 - accuracy: 0.9529 - val_loss: 0.6892 - val_accuracy: 0.5312\n",
      "Epoch 8/50\n",
      "8/8 [==============================] - 1s 131ms/step - loss: 0.3581 - accuracy: 0.9802 - val_loss: 0.7088 - val_accuracy: 0.5625\n",
      "Epoch 9/50\n",
      "8/8 [==============================] - 1s 131ms/step - loss: 0.2594 - accuracy: 0.9907 - val_loss: 0.7948 - val_accuracy: 0.6562\n",
      "Epoch 10/50\n",
      "8/8 [==============================] - 1s 137ms/step - loss: 0.1782 - accuracy: 0.9907 - val_loss: 0.9249 - val_accuracy: 0.5625\n",
      "Epoch 11/50\n",
      "8/8 [==============================] - 1s 133ms/step - loss: 0.1289 - accuracy: 0.9872 - val_loss: 1.1158 - val_accuracy: 0.5000\n",
      "Epoch 12/50\n",
      "8/8 [==============================] - 1s 131ms/step - loss: 0.0941 - accuracy: 0.9930 - val_loss: 1.4260 - val_accuracy: 0.5000\n",
      "Epoch 13/50\n",
      "8/8 [==============================] - 1s 130ms/step - loss: 0.0649 - accuracy: 0.9930 - val_loss: 1.4440 - val_accuracy: 0.4688\n",
      "Epoch 14/50\n",
      "8/8 [==============================] - 1s 133ms/step - loss: 0.0866 - accuracy: 1.0000 - val_loss: 1.3617 - val_accuracy: 0.5312\n",
      "Epoch 15/50\n",
      "8/8 [==============================] - 1s 133ms/step - loss: 0.0533 - accuracy: 0.9930 - val_loss: 1.3923 - val_accuracy: 0.5938\n",
      "Epoch 16/50\n",
      "8/8 [==============================] - 1s 131ms/step - loss: 0.0623 - accuracy: 0.9947 - val_loss: 1.3556 - val_accuracy: 0.6250\n",
      "Epoch 17/50\n",
      "8/8 [==============================] - 1s 137ms/step - loss: 0.0462 - accuracy: 1.0000 - val_loss: 1.4852 - val_accuracy: 0.5938\n",
      "Epoch 18/50\n",
      "8/8 [==============================] - 1s 130ms/step - loss: 0.0285 - accuracy: 1.0000 - val_loss: 1.4483 - val_accuracy: 0.6250\n",
      "Epoch 19/50\n",
      "8/8 [==============================] - 1s 133ms/step - loss: 0.0310 - accuracy: 1.0000 - val_loss: 1.5298 - val_accuracy: 0.5938\n",
      "Epoch 20/50\n",
      "8/8 [==============================] - 1s 140ms/step - loss: 0.0288 - accuracy: 1.0000 - val_loss: 2.0001 - val_accuracy: 0.5312\n",
      "Epoch 21/50\n",
      "8/8 [==============================] - 1s 129ms/step - loss: 0.0227 - accuracy: 1.0000 - val_loss: 1.9021 - val_accuracy: 0.5625\n",
      "Epoch 22/50\n",
      "8/8 [==============================] - 1s 138ms/step - loss: 0.0135 - accuracy: 1.0000 - val_loss: 1.9580 - val_accuracy: 0.5312\n",
      "Epoch 23/50\n",
      "8/8 [==============================] - 1s 135ms/step - loss: 0.0165 - accuracy: 1.0000 - val_loss: 2.0552 - val_accuracy: 0.5625\n",
      "Epoch 24/50\n",
      "8/8 [==============================] - 1s 133ms/step - loss: 0.0120 - accuracy: 1.0000 - val_loss: 2.1270 - val_accuracy: 0.5625\n",
      "Epoch 25/50\n",
      "8/8 [==============================] - 1s 133ms/step - loss: 0.0222 - accuracy: 0.9955 - val_loss: 1.9276 - val_accuracy: 0.5312\n",
      "Epoch 26/50\n",
      "8/8 [==============================] - 1s 133ms/step - loss: 0.0529 - accuracy: 0.9771 - val_loss: 2.7108 - val_accuracy: 0.4062\n",
      "Epoch 27/50\n",
      "8/8 [==============================] - 1s 136ms/step - loss: 0.0233 - accuracy: 0.9922 - val_loss: 1.9930 - val_accuracy: 0.4375\n",
      "Epoch 28/50\n",
      "8/8 [==============================] - 1s 134ms/step - loss: 0.0119 - accuracy: 1.0000 - val_loss: 1.7013 - val_accuracy: 0.5312\n",
      "Epoch 29/50\n",
      "8/8 [==============================] - 1s 135ms/step - loss: 0.0158 - accuracy: 1.0000 - val_loss: 1.6673 - val_accuracy: 0.5625\n",
      "Epoch 30/50\n",
      "8/8 [==============================] - 1s 137ms/step - loss: 0.0180 - accuracy: 1.0000 - val_loss: 1.6801 - val_accuracy: 0.5938\n",
      "Epoch 31/50\n",
      "8/8 [==============================] - 1s 132ms/step - loss: 0.0156 - accuracy: 1.0000 - val_loss: 1.6965 - val_accuracy: 0.5625\n",
      "Epoch 32/50\n",
      "8/8 [==============================] - 1s 129ms/step - loss: 0.0189 - accuracy: 0.9930 - val_loss: 1.7135 - val_accuracy: 0.5625\n",
      "Epoch 33/50\n",
      "8/8 [==============================] - 1s 138ms/step - loss: 0.0198 - accuracy: 0.9872 - val_loss: 1.7285 - val_accuracy: 0.5938\n",
      "Epoch 34/50\n",
      "8/8 [==============================] - 1s 130ms/step - loss: 0.0091 - accuracy: 1.0000 - val_loss: 1.7449 - val_accuracy: 0.5938\n",
      "Epoch 35/50\n",
      "8/8 [==============================] - 1s 130ms/step - loss: 0.0095 - accuracy: 1.0000 - val_loss: 1.7627 - val_accuracy: 0.5938\n",
      "Epoch 36/50\n",
      "8/8 [==============================] - 1s 132ms/step - loss: 0.0133 - accuracy: 1.0000 - val_loss: 1.7822 - val_accuracy: 0.5938\n",
      "Epoch 37/50\n",
      "8/8 [==============================] - 1s 130ms/step - loss: 0.0304 - accuracy: 0.9803 - val_loss: 1.7943 - val_accuracy: 0.5938\n",
      "Epoch 38/50\n",
      "8/8 [==============================] - 1s 134ms/step - loss: 0.0086 - accuracy: 1.0000 - val_loss: 1.8068 - val_accuracy: 0.5938\n",
      "Epoch 39/50\n",
      "8/8 [==============================] - 1s 134ms/step - loss: 0.0052 - accuracy: 1.0000 - val_loss: 1.8202 - val_accuracy: 0.5938\n",
      "Epoch 40/50\n",
      "8/8 [==============================] - 1s 132ms/step - loss: 0.0101 - accuracy: 1.0000 - val_loss: 1.8362 - val_accuracy: 0.5938\n",
      "Epoch 41/50\n",
      "8/8 [==============================] - 1s 135ms/step - loss: 0.0100 - accuracy: 1.0000 - val_loss: 1.8553 - val_accuracy: 0.5938\n",
      "Epoch 42/50\n",
      "8/8 [==============================] - 1s 134ms/step - loss: 0.0140 - accuracy: 0.9973 - val_loss: 1.8718 - val_accuracy: 0.5625\n",
      "Epoch 43/50\n",
      "8/8 [==============================] - 1s 133ms/step - loss: 0.0070 - accuracy: 1.0000 - val_loss: 1.8861 - val_accuracy: 0.5625\n",
      "Epoch 44/50\n",
      "8/8 [==============================] - 1s 132ms/step - loss: 0.0047 - accuracy: 1.0000 - val_loss: 1.9001 - val_accuracy: 0.5625\n",
      "Epoch 45/50\n",
      "8/8 [==============================] - 1s 137ms/step - loss: 0.0108 - accuracy: 1.0000 - val_loss: 1.9194 - val_accuracy: 0.5625\n",
      "Epoch 46/50\n",
      "8/8 [==============================] - 1s 130ms/step - loss: 0.0039 - accuracy: 1.0000 - val_loss: 1.9362 - val_accuracy: 0.5625\n",
      "Epoch 47/50\n",
      "8/8 [==============================] - 1s 136ms/step - loss: 0.0101 - accuracy: 1.0000 - val_loss: 1.9500 - val_accuracy: 0.5625\n",
      "Epoch 48/50\n",
      "8/8 [==============================] - 1s 136ms/step - loss: 0.0037 - accuracy: 1.0000 - val_loss: 1.9631 - val_accuracy: 0.5625\n",
      "Epoch 49/50\n",
      "8/8 [==============================] - 1s 139ms/step - loss: 0.0187 - accuracy: 0.9907 - val_loss: 1.9686 - val_accuracy: 0.5625\n",
      "Epoch 50/50\n",
      "8/8 [==============================] - 1s 134ms/step - loss: 0.0053 - accuracy: 1.0000 - val_loss: 1.9770 - val_accuracy: 0.5625\n"
     ]
    }
   ],
   "source": [
    "history = model.fit(\n",
    "    x_train, y_train, batch_size=16, epochs=50, validation_split=0.2\n",
    ")"
   ]
  },
  {
   "cell_type": "code",
   "execution_count": 53,
   "id": "banned-currency",
   "metadata": {},
   "outputs": [
    {
     "name": "stdout",
     "output_type": "stream",
     "text": [
      "2/2 [==============================] - 1s 104ms/step - loss: 1.7797 - accuracy: 0.4750\n",
      "0.475 Testing accuracy\n"
     ]
    }
   ],
   "source": [
    "test_loss, test_acc = model.evaluate(x_test, y_test, batch_size=32)\n",
    "print(\"%.3f\" % test_acc, \"Testing accuracy\")"
   ]
  },
  {
   "cell_type": "code",
   "execution_count": 54,
   "id": "retired-symposium",
   "metadata": {},
   "outputs": [
    {
     "data": {
      "image/png": "[encoded data removed]",
      "text/plain": [
       "<Figure size 432x288 with 1 Axes>"
      ]
     },
     "metadata": {
      "needs_background": "light"
     },
     "output_type": "display_data"
    },
    {
     "data": {
      "image/png": "[encoded data removed]",
      "text/plain": [
       "<Figure size 432x288 with 1 Axes>"
      ]
     },
     "metadata": {
      "needs_background": "light"
     },
     "output_type": "display_data"
    }
   ],
   "source": [
    "from matplotlib import pyplot as plt\n",
    "\n",
    "# Accuracy\n",
    "plt.plot(history.history['accuracy'])\n",
    "plt.plot(history.history['val_accuracy'])\n",
    "plt.title('Model accuracy')\n",
    "plt.ylabel('accuracy')\n",
    "plt.xlabel('epoch')\n",
    "plt.legend(['train', 'validation'], loc='upper left')\n",
    "plt.show()\n",
    "# Loss\n",
    "plt.plot(history.history['loss'])\n",
    "plt.plot(history.history['val_loss'])\n",
    "plt.title('Model loss')\n",
    "plt.ylabel('loss')\n",
    "plt.xlabel('epoch')\n",
    "plt.legend(['train', 'validation'], loc='upper left')\n",
    "plt.show()"
   ]
  },
  {
   "cell_type": "code",
   "execution_count": null,
   "id": "dirty-solomon",
   "metadata": {},
   "outputs": [],
   "source": []
  }
 ],
 "metadata": {
  "kernelspec": {
   "display_name": "Python 3",
   "language": "python",
   "name": "python3"
  },
  "language_info": {
   "codemirror_mode": {
    "name": "ipython",
    "version": 3
   },
   "file_extension": ".py",
   "mimetype": "text/x-python",
   "name": "python",
   "nbconvert_exporter": "python",
   "pygments_lexer": "ipython3",
   "version": "3.8.8"
  }
 },
 "nbformat": 4,
 "nbformat_minor": 5
}
